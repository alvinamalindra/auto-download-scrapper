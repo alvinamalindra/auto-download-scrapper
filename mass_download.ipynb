{
 "cells": [
  {
   "cell_type": "code",
   "execution_count": null,
   "metadata": {},
   "outputs": [],
   "source": [
    "import requests\n",
    "import os\n",
    "from concurrent.futures import ThreadPoolExecutor\n",
    "\n",
    "def download_image(url, folder):\n",
    "    try:\n",
    "        response = requests.get(url)\n",
    "        if response.status_code == 200:\n",
    "            filename = os.path.join(folder, url.split('/')[-1])\n",
    "            with open(filename, 'wb') as f:\n",
    "                f.write(response.content)\n",
    "            print(f\"Downloaded: {filename}\")\n",
    "        else:\n",
    "            print(f\"Failed to download: {url}\")\n",
    "    except Exception as e:\n",
    "        print(f\"Error downloading {url}: {str(e)}\")\n",
    "\n",
    "def download_images(urls, folder):\n",
    "    os.makedirs(folder, exist_ok=True)\n",
    "    with ThreadPoolExecutor(max_workers=10) as executor:\n",
    "        executor.map(lambda url: download_image(url, folder), urls)\n",
    "\n",
    "# Example usage\n",
    "image_urls = [\n",
    "    \"https://kuroyama.id/static/img/314f8a499d41c419f14bdde2e328475a7395e837a0e0abde5d75ed7873aed89e.jpg\"\n",
    "]\n",
    "\n",
    "download_folder = \"downloaded_images\"\n",
    "download_images(image_urls, download_folder)"
   ]
  }
 ],
 "metadata": {
  "language_info": {
   "name": "python"
  }
 },
 "nbformat": 4,
 "nbformat_minor": 2
}
